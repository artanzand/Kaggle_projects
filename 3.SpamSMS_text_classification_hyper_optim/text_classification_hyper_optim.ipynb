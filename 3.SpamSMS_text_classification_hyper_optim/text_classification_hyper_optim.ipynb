{
 "cells": [
  {
   "cell_type": "markdown",
   "metadata": {},
   "source": [
    "# Text classification and hyperparameter optimization"
   ]
  },
  {
   "cell_type": "code",
   "execution_count": 1,
   "metadata": {},
   "outputs": [],
   "source": [
    "import numpy as np\n",
    "import pandas as pd\n",
    "import altair as alt\n",
    "alt.renderers.enable('mimetype')\n",
    "from sklearn.dummy import DummyClassifier\n",
    "from sklearn.feature_extraction.text import CountVectorizer\n",
    "from sklearn.model_selection import (\n",
    "    GridSearchCV,\n",
    "    RandomizedSearchCV,\n",
    "    cross_validate,\n",
    "    train_test_split,\n",
    ")\n",
    "from sklearn.pipeline import Pipeline, make_pipeline\n",
    "from sklearn.svm import SVC"
   ]
  },
  {
   "cell_type": "markdown",
   "metadata": {},
   "source": [
    "<br><br>"
   ]
  },
  {
   "cell_type": "markdown",
   "metadata": {},
   "source": [
    "## Exercise 1: Introducing the dataset and EDA <a name=\"1\"></a>\n",
    "<hr>\n",
    "\n",
    "Let's develop our own SMS spam classification system using Kaggle's [SMS Spam Collection Dataset](https://www.kaggle.com/uciml/sms-spam-collection-dataset). The prediction problem here is predicting whether a given text message is spam or not spam.  \n",
    "\n",
    "Download the CSV and save it as `spam.csv` locally in this lab folder. \n",
    "\n",
    "> **Some text messages contain offensive language. Unfortunately, it's the reality of such platforms 😔. If you are sensitive to such language try not to read the raw messages.** \n",
    "\n",
    "\n",
    "The starter code below reads the CSV assuming that it's present in the current directory and renames the columns of the CSV."
   ]
  },
  {
   "cell_type": "code",
   "execution_count": 2,
   "metadata": {},
   "outputs": [],
   "source": [
    "sms_df = pd.read_csv(\"spam.csv\", encoding=\"latin-1\")\n",
    "sms_df = sms_df.drop([\"Unnamed: 2\", \"Unnamed: 3\", \"Unnamed: 4\"], axis=1)\n",
    "sms_df = sms_df.rename(columns={\"v1\": \"target\", \"v2\": \"sms\"})"
   ]
  },
  {
   "cell_type": "code",
   "execution_count": 3,
   "metadata": {},
   "outputs": [
    {
     "data": {
      "text/html": [
       "<div>\n",
       "<style scoped>\n",
       "    .dataframe tbody tr th:only-of-type {\n",
       "        vertical-align: middle;\n",
       "    }\n",
       "\n",
       "    .dataframe tbody tr th {\n",
       "        vertical-align: top;\n",
       "    }\n",
       "\n",
       "    .dataframe thead th {\n",
       "        text-align: right;\n",
       "    }\n",
       "</style>\n",
       "<table border=\"1\" class=\"dataframe\">\n",
       "  <thead>\n",
       "    <tr style=\"text-align: right;\">\n",
       "      <th></th>\n",
       "      <th>target</th>\n",
       "      <th>sms</th>\n",
       "    </tr>\n",
       "  </thead>\n",
       "  <tbody>\n",
       "    <tr>\n",
       "      <th>0</th>\n",
       "      <td>ham</td>\n",
       "      <td>Go until jurong point, crazy.. Available only ...</td>\n",
       "    </tr>\n",
       "    <tr>\n",
       "      <th>1</th>\n",
       "      <td>ham</td>\n",
       "      <td>Ok lar... Joking wif u oni...</td>\n",
       "    </tr>\n",
       "    <tr>\n",
       "      <th>2</th>\n",
       "      <td>spam</td>\n",
       "      <td>Free entry in 2 a wkly comp to win FA Cup fina...</td>\n",
       "    </tr>\n",
       "    <tr>\n",
       "      <th>3</th>\n",
       "      <td>ham</td>\n",
       "      <td>U dun say so early hor... U c already then say...</td>\n",
       "    </tr>\n",
       "    <tr>\n",
       "      <th>4</th>\n",
       "      <td>ham</td>\n",
       "      <td>Nah I don't think he goes to usf, he lives aro...</td>\n",
       "    </tr>\n",
       "  </tbody>\n",
       "</table>\n",
       "</div>"
      ],
      "text/plain": [
       "  target                                                sms\n",
       "0    ham  Go until jurong point, crazy.. Available only ...\n",
       "1    ham                      Ok lar... Joking wif u oni...\n",
       "2   spam  Free entry in 2 a wkly comp to win FA Cup fina...\n",
       "3    ham  U dun say so early hor... U c already then say...\n",
       "4    ham  Nah I don't think he goes to usf, he lives aro..."
      ]
     },
     "execution_count": 3,
     "metadata": {},
     "output_type": "execute_result"
    }
   ],
   "source": [
    "sms_df.head()"
   ]
  },
  {
   "cell_type": "markdown",
   "metadata": {},
   "source": [
    "### 1.1 Data splitting \n",
    "rubric={accuracy:1}\n",
    "\n",
    "**Your tasks:**\n",
    "\n",
    "1. Split `sms_df` into train (80%) and test splits (20%) with `random_state=123`. "
   ]
  },
  {
   "cell_type": "code",
   "execution_count": 4,
   "metadata": {},
   "outputs": [
    {
     "name": "stdout",
     "output_type": "stream",
     "text": [
      "The dimension of train data is (4457, 2).\n",
      "The dimension of test data is (1115, 2)\n"
     ]
    }
   ],
   "source": [
    "train, test = train_test_split(sms_df, test_size=0.2, random_state=123)\n",
    "print(f\"The dimension of train data is {train.shape}.\\nThe dimension of test data is {test.shape}\")"
   ]
  },
  {
   "cell_type": "markdown",
   "metadata": {},
   "source": [
    "<br><br>"
   ]
  },
  {
   "cell_type": "markdown",
   "metadata": {},
   "source": [
    "### 1.2 Simple EDA \n",
    "rubric={accuracy:3}\n",
    "\n",
    "Note that in case of text data the usual EDA is not applicable. In this exercise, we will carry out some simple EDA to get a sense of the data.\n",
    "\n",
    "**Your tasks:**\n",
    "\n",
    "1. What's the label distribution in the target column? \n",
    "2. What's the average length (number of characters) of text messages? Show the shortest and longest text messages. \n",
    "\n",
    "> You can assume length in terms of number of characters. \n",
    "\n",
    "> If there are multiple messages with shortest or longest length, show the longest and shortest messages of your choice. "
   ]
  },
  {
   "cell_type": "code",
   "execution_count": 5,
   "metadata": {},
   "outputs": [
    {
     "data": {
      "text/plain": [
       "ham     3843\n",
       "spam     614\n",
       "Name: target, dtype: int64"
      ]
     },
     "execution_count": 5,
     "metadata": {},
     "output_type": "execute_result"
    }
   ],
   "source": [
    "label_dist = train['target'].value_counts()\n",
    "label_dist"
   ]
  },
  {
   "cell_type": "code",
   "execution_count": 6,
   "metadata": {},
   "outputs": [
    {
     "data": {
      "text/plain": [
       "80.28427193179269"
      ]
     },
     "execution_count": 6,
     "metadata": {},
     "output_type": "execute_result"
    }
   ],
   "source": [
    "avg_length = train[\"sms\"].apply(len).mean()\n",
    "avg_length"
   ]
  },
  {
   "cell_type": "code",
   "execution_count": 7,
   "metadata": {},
   "outputs": [
    {
     "name": "stdout",
     "output_type": "stream",
     "text": [
      "Shortest message is 2 characters and the longest message is 790 characters long.\n"
     ]
    }
   ],
   "source": [
    "train[\"length\"] = train[\"sms\"].apply(len)\n",
    "shortest_len = train[\"length\"].min()\n",
    "longest_len = train[\"length\"].max()\n",
    "print(f\"Shortest message is {shortest_len} characters and the longest message is {longest_len} characters long.\")"
   ]
  },
  {
   "cell_type": "code",
   "execution_count": 8,
   "metadata": {},
   "outputs": [
    {
     "data": {
      "text/plain": [
       "5357    Ok\n",
       "3049    Ok\n",
       "1924    Ok\n",
       "4496    Ok\n",
       "Name: sms, dtype: object"
      ]
     },
     "execution_count": 8,
     "metadata": {},
     "output_type": "execute_result"
    }
   ],
   "source": [
    "train.query(\"length == @shortest_len\")[\"sms\"]"
   ]
  },
  {
   "cell_type": "code",
   "execution_count": 9,
   "metadata": {},
   "outputs": [
    {
     "data": {
      "text/plain": [
       "\"The last thing i ever wanted to do was hurt you. And i didn't think it would have. You'd laugh, be embarassed, delete the tag and keep going. But as far as i knew, it wasn't even up. The fact that you even felt like i would do it to hurt you shows you really don't know me at all. It was messy wednesday, but it wasn't bad. The problem i have with it is you HAVE the time to clean it, but you choose not to. You skype, you take pictures, you sleep, you want to go out. I don't mind a few things here and there, but when you don't make the bed, when you throw laundry on top of it, when i can't have a friend in the house because i'm embarassed that there's underwear and bras strewn on the bed, pillows on the floor, that's something else. You used to be good about at least making the bed.\""
      ]
     },
     "execution_count": 9,
     "metadata": {},
     "output_type": "execute_result"
    }
   ],
   "source": [
    "list(train.query(\"length == @longest_len\")['sms'])[0]"
   ]
  },
  {
   "cell_type": "markdown",
   "metadata": {},
   "source": [
    "<br><br>"
   ]
  },
  {
   "cell_type": "markdown",
   "metadata": {},
   "source": [
    "### 1.3 Encoding \n",
    "rubric={reasoning:2}\n",
    "\n",
    "1. How would you encode the `sms` column? Does it make sense to apply one-hot encoding on this column? Why or why not? "
   ]
  },
  {
   "cell_type": "markdown",
   "metadata": {},
   "source": [
    "_We would use bag of words (CountVectorizer) to encode this column. One-hot encoding applies to categorical column with repeated values, and we won't be able to apply it here because with a slight change in our value (adding or removing a character), our trained model might have not seen the new value, and therefore, is not able to predict our target._"
   ]
  },
  {
   "cell_type": "markdown",
   "metadata": {},
   "source": [
    "<br><br>"
   ]
  },
  {
   "cell_type": "markdown",
   "metadata": {},
   "source": [
    "### (Optional) 1.4 Word clouds\n",
    "rubric={reasoning:1}\n",
    "\n",
    "**Your tasks:**\n",
    "1. Create two word clouds: one for text messages with `spam` target and one for text messages with `ham` target (non-spam messages). You could use [the `wordcloud` package](https://github.com/amueller/word_cloud) for this, which you will have to install in your environment.  "
   ]
  },
  {
   "cell_type": "code",
   "execution_count": 10,
   "metadata": {},
   "outputs": [
    {
     "data": {
      "image/png": "[encoded data removed]",
      "text/plain": [
       "<Figure size 432x288 with 1 Axes>"
      ]
     },
     "metadata": {
      "needs_background": "light"
     },
     "output_type": "display_data"
    }
   ],
   "source": [
    "from wordcloud import WordCloud, STOPWORDS\n",
    "import matplotlib.pyplot as plt\n",
    "\n",
    "text_spam = train.query(\"target == 'spam'\")[\"sms\"].to_string()\n",
    "\n",
    "wordcloud_spam = WordCloud(\n",
    "    max_font_size=30, max_words=123, background_color=\"black\"\n",
    ").generate(text_spam)\n",
    "plt.imshow(wordcloud_spam, interpolation=\"antialiased\")\n",
    "plt.axis(\"off\")\n",
    "plt.show()"
   ]
  },
  {
   "cell_type": "code",
   "execution_count": 11,
   "metadata": {},
   "outputs": [
    {
     "data": {
      "image/png": "[encoded data removed]",
      "text/plain": [
       "<Figure size 432x288 with 1 Axes>"
      ]
     },
     "metadata": {
      "needs_background": "light"
     },
     "output_type": "display_data"
    }
   ],
   "source": [
    "text_ham = train.query(\"target == 'spam'\")[\"sms\"].to_string()\n",
    "\n",
    "wordcloud_ham = WordCloud(\n",
    "    max_font_size=30, max_words=123, background_color=\"white\"\n",
    ").generate(text_ham)\n",
    "plt.imshow(wordcloud_ham, interpolation=\"antialiased\")\n",
    "plt.axis(\"off\")\n",
    "plt.show()"
   ]
  },
  {
   "cell_type": "markdown",
   "metadata": {},
   "source": [
    "<br><br><br><br>"
   ]
  },
  {
   "cell_type": "markdown",
   "metadata": {},
   "source": [
    "## Exercise 2: Exploring `CountVectorizer` <a name=\"2\"></a>\n",
    "<hr>\n",
    "\n",
    "We will be encoding the text data using [sklearn's `CountVectorizer`](https://scikit-learn.org/stable/modules/generated/sklearn.feature_extraction.text.CountVectorizer.html). In this exercise we will explore different options of `CountVectorizer`. "
   ]
  },
  {
   "cell_type": "markdown",
   "metadata": {},
   "source": [
    "### 2.1 `CountVectorizer` with default parameters\n",
    "rubric={accuracy:3}\n",
    "\n",
    "**Your tasks:**\n",
    "1. Create `X_train`, `y_train`, `X_test`, `y_test`. \n",
    "2. Create a `CountVectorizer` with default hyperparameters and transform the training data. \n",
    "3. What's the dimensionality of the transformed data? \n",
    "\n",
    "> Note that unlike other transformers, you pass a `pandas.Series` object or a 1-D array to `CountVectorizer`. "
   ]
  },
  {
   "cell_type": "code",
   "execution_count": 12,
   "metadata": {},
   "outputs": [],
   "source": [
    "X_train, X_test, y_train, y_test = train_test_split(sms_df[\"sms\"], sms_df[\"target\"], test_size=0.2, random_state=123)"
   ]
  },
  {
   "cell_type": "code",
   "execution_count": 13,
   "metadata": {},
   "outputs": [
    {
     "data": {
      "text/plain": [
       "<4457x7682 sparse matrix of type '<class 'numpy.int64'>'\n",
       "\twith 59329 stored elements in Compressed Sparse Row format>"
      ]
     },
     "execution_count": 13,
     "metadata": {},
     "output_type": "execute_result"
    }
   ],
   "source": [
    "countvec = CountVectorizer()\n",
    "sms_transformed = countvec.fit_transform(X_train)\n",
    "sms_transformed"
   ]
  },
  {
   "cell_type": "markdown",
   "metadata": {},
   "source": [
    "_Dimensianlity of the transfromed data is (4457, 7682)._"
   ]
  },
  {
   "cell_type": "markdown",
   "metadata": {},
   "source": [
    " "
   ]
  },
  {
   "cell_type": "markdown",
   "metadata": {},
   "source": [
    "<br><br>"
   ]
  },
  {
   "cell_type": "markdown",
   "metadata": {},
   "source": [
    "### 2.2 `stop_words='english'`\n",
    "rubric={reasoning:2}\n",
    "\n",
    "1. Now create a `CountVectorizer` with `stop_words='english'` and transform the training data. \n",
    "2. Did the dimensionality of the transformed data change compared to 2.1? Why or why not? "
   ]
  },
  {
   "cell_type": "code",
   "execution_count": 14,
   "metadata": {},
   "outputs": [
    {
     "data": {
      "text/plain": [
       "<4457x7419 sparse matrix of type '<class 'numpy.int64'>'\n",
       "\twith 34984 stored elements in Compressed Sparse Row format>"
      ]
     },
     "execution_count": 14,
     "metadata": {},
     "output_type": "execute_result"
    }
   ],
   "source": [
    "countvec_eng = CountVectorizer(stop_words=\"english\")\n",
    "sms_transformed_eng = countvec_eng.fit_transform(X_train)\n",
    "sms_transformed_eng"
   ]
  },
  {
   "cell_type": "markdown",
   "metadata": {},
   "source": [
    "_The dimensionality decreased. Stop words are common words used in a language that do not help with classification models. When we are setting our model to not include them, we will end up with features not including these words, and therefore, our column count decreases. See below for stop words examples._"
   ]
  },
  {
   "cell_type": "code",
   "execution_count": 15,
   "metadata": {},
   "outputs": [
    {
     "data": {
      "text/plain": [
       "frozenset({'a',\n",
       "           'about',\n",
       "           'above',\n",
       "           'across',\n",
       "           'after',\n",
       "           'afterwards',\n",
       "           'again',\n",
       "           'against',\n",
       "           'all',\n",
       "           'almost',\n",
       "           'alone',\n",
       "           'along',\n",
       "           'already',\n",
       "           'also',\n",
       "           'although',\n",
       "           'always',\n",
       "           'am',\n",
       "           'among',\n",
       "           'amongst',\n",
       "           'amoungst',\n",
       "           'amount',\n",
       "           'an',\n",
       "           'and',\n",
       "           'another',\n",
       "           'any',\n",
       "           'anyhow',\n",
       "           'anyone',\n",
       "           'anything',\n",
       "           'anyway',\n",
       "           'anywhere',\n",
       "           'are',\n",
       "           'around',\n",
       "           'as',\n",
       "           'at',\n",
       "           'back',\n",
       "           'be',\n",
       "           'became',\n",
       "           'because',\n",
       "           'become',\n",
       "           'becomes',\n",
       "           'becoming',\n",
       "           'been',\n",
       "           'before',\n",
       "           'beforehand',\n",
       "           'behind',\n",
       "           'being',\n",
       "           'below',\n",
       "           'beside',\n",
       "           'besides',\n",
       "           'between',\n",
       "           'beyond',\n",
       "           'bill',\n",
       "           'both',\n",
       "           'bottom',\n",
       "           'but',\n",
       "           'by',\n",
       "           'call',\n",
       "           'can',\n",
       "           'cannot',\n",
       "           'cant',\n",
       "           'co',\n",
       "           'con',\n",
       "           'could',\n",
       "           'couldnt',\n",
       "           'cry',\n",
       "           'de',\n",
       "           'describe',\n",
       "           'detail',\n",
       "           'do',\n",
       "           'done',\n",
       "           'down',\n",
       "           'due',\n",
       "           'during',\n",
       "           'each',\n",
       "           'eg',\n",
       "           'eight',\n",
       "           'either',\n",
       "           'eleven',\n",
       "           'else',\n",
       "           'elsewhere',\n",
       "           'empty',\n",
       "           'enough',\n",
       "           'etc',\n",
       "           'even',\n",
       "           'ever',\n",
       "           'every',\n",
       "           'everyone',\n",
       "           'everything',\n",
       "           'everywhere',\n",
       "           'except',\n",
       "           'few',\n",
       "           'fifteen',\n",
       "           'fifty',\n",
       "           'fill',\n",
       "           'find',\n",
       "           'fire',\n",
       "           'first',\n",
       "           'five',\n",
       "           'for',\n",
       "           'former',\n",
       "           'formerly',\n",
       "           'forty',\n",
       "           'found',\n",
       "           'four',\n",
       "           'from',\n",
       "           'front',\n",
       "           'full',\n",
       "           'further',\n",
       "           'get',\n",
       "           'give',\n",
       "           'go',\n",
       "           'had',\n",
       "           'has',\n",
       "           'hasnt',\n",
       "           'have',\n",
       "           'he',\n",
       "           'hence',\n",
       "           'her',\n",
       "           'here',\n",
       "           'hereafter',\n",
       "           'hereby',\n",
       "           'herein',\n",
       "           'hereupon',\n",
       "           'hers',\n",
       "           'herself',\n",
       "           'him',\n",
       "           'himself',\n",
       "           'his',\n",
       "           'how',\n",
       "           'however',\n",
       "           'hundred',\n",
       "           'i',\n",
       "           'ie',\n",
       "           'if',\n",
       "           'in',\n",
       "           'inc',\n",
       "           'indeed',\n",
       "           'interest',\n",
       "           'into',\n",
       "           'is',\n",
       "           'it',\n",
       "           'its',\n",
       "           'itself',\n",
       "           'keep',\n",
       "           'last',\n",
       "           'latter',\n",
       "           'latterly',\n",
       "           'least',\n",
       "           'less',\n",
       "           'ltd',\n",
       "           'made',\n",
       "           'many',\n",
       "           'may',\n",
       "           'me',\n",
       "           'meanwhile',\n",
       "           'might',\n",
       "           'mill',\n",
       "           'mine',\n",
       "           'more',\n",
       "           'moreover',\n",
       "           'most',\n",
       "           'mostly',\n",
       "           'move',\n",
       "           'much',\n",
       "           'must',\n",
       "           'my',\n",
       "           'myself',\n",
       "           'name',\n",
       "           'namely',\n",
       "           'neither',\n",
       "           'never',\n",
       "           'nevertheless',\n",
       "           'next',\n",
       "           'nine',\n",
       "           'no',\n",
       "           'nobody',\n",
       "           'none',\n",
       "           'noone',\n",
       "           'nor',\n",
       "           'not',\n",
       "           'nothing',\n",
       "           'now',\n",
       "           'nowhere',\n",
       "           'of',\n",
       "           'off',\n",
       "           'often',\n",
       "           'on',\n",
       "           'once',\n",
       "           'one',\n",
       "           'only',\n",
       "           'onto',\n",
       "           'or',\n",
       "           'other',\n",
       "           'others',\n",
       "           'otherwise',\n",
       "           'our',\n",
       "           'ours',\n",
       "           'ourselves',\n",
       "           'out',\n",
       "           'over',\n",
       "           'own',\n",
       "           'part',\n",
       "           'per',\n",
       "           'perhaps',\n",
       "           'please',\n",
       "           'put',\n",
       "           'rather',\n",
       "           're',\n",
       "           'same',\n",
       "           'see',\n",
       "           'seem',\n",
       "           'seemed',\n",
       "           'seeming',\n",
       "           'seems',\n",
       "           'serious',\n",
       "           'several',\n",
       "           'she',\n",
       "           'should',\n",
       "           'show',\n",
       "           'side',\n",
       "           'since',\n",
       "           'sincere',\n",
       "           'six',\n",
       "           'sixty',\n",
       "           'so',\n",
       "           'some',\n",
       "           'somehow',\n",
       "           'someone',\n",
       "           'something',\n",
       "           'sometime',\n",
       "           'sometimes',\n",
       "           'somewhere',\n",
       "           'still',\n",
       "           'such',\n",
       "           'system',\n",
       "           'take',\n",
       "           'ten',\n",
       "           'than',\n",
       "           'that',\n",
       "           'the',\n",
       "           'their',\n",
       "           'them',\n",
       "           'themselves',\n",
       "           'then',\n",
       "           'thence',\n",
       "           'there',\n",
       "           'thereafter',\n",
       "           'thereby',\n",
       "           'therefore',\n",
       "           'therein',\n",
       "           'thereupon',\n",
       "           'these',\n",
       "           'they',\n",
       "           'thick',\n",
       "           'thin',\n",
       "           'third',\n",
       "           'this',\n",
       "           'those',\n",
       "           'though',\n",
       "           'three',\n",
       "           'through',\n",
       "           'throughout',\n",
       "           'thru',\n",
       "           'thus',\n",
       "           'to',\n",
       "           'together',\n",
       "           'too',\n",
       "           'top',\n",
       "           'toward',\n",
       "           'towards',\n",
       "           'twelve',\n",
       "           'twenty',\n",
       "           'two',\n",
       "           'un',\n",
       "           'under',\n",
       "           'until',\n",
       "           'up',\n",
       "           'upon',\n",
       "           'us',\n",
       "           'very',\n",
       "           'via',\n",
       "           'was',\n",
       "           'we',\n",
       "           'well',\n",
       "           'were',\n",
       "           'what',\n",
       "           'whatever',\n",
       "           'when',\n",
       "           'whence',\n",
       "           'whenever',\n",
       "           'where',\n",
       "           'whereafter',\n",
       "           'whereas',\n",
       "           'whereby',\n",
       "           'wherein',\n",
       "           'whereupon',\n",
       "           'wherever',\n",
       "           'whether',\n",
       "           'which',\n",
       "           'while',\n",
       "           'whither',\n",
       "           'who',\n",
       "           'whoever',\n",
       "           'whole',\n",
       "           'whom',\n",
       "           'whose',\n",
       "           'why',\n",
       "           'will',\n",
       "           'with',\n",
       "           'within',\n",
       "           'without',\n",
       "           'would',\n",
       "           'yet',\n",
       "           'you',\n",
       "           'your',\n",
       "           'yours',\n",
       "           'yourself',\n",
       "           'yourselves'})"
      ]
     },
     "execution_count": 15,
     "metadata": {},
     "output_type": "execute_result"
    }
   ],
   "source": [
    "countvec_eng.get_stop_words()"
   ]
  },
  {
   "cell_type": "markdown",
   "metadata": {},
   "source": [
    " "
   ]
  },
  {
   "cell_type": "markdown",
   "metadata": {},
   "source": [
    "<br><br>"
   ]
  },
  {
   "cell_type": "markdown",
   "metadata": {},
   "source": [
    "### 2.3 `max_features` \n",
    "rubric={accuracy:2}\n",
    "\n",
    "1. Now pass the following two arguments to `CountVectorizer` and transform the training data again. \n",
    "    - `max_features=1000`\n",
    "    - `stop_words=english` \n",
    "2. What's the dimensionality of the encoded data? "
   ]
  },
  {
   "cell_type": "code",
   "execution_count": 16,
   "metadata": {},
   "outputs": [
    {
     "data": {
      "text/plain": [
       "<4457x1000 sparse matrix of type '<class 'numpy.int64'>'\n",
       "\twith 23679 stored elements in Compressed Sparse Row format>"
      ]
     },
     "execution_count": 16,
     "metadata": {},
     "output_type": "execute_result"
    }
   ],
   "source": [
    "count_vec_eng_max = CountVectorizer(stop_words=\"english\", max_features=1000)\n",
    "sms_eng_max = count_vec_eng_max.fit_transform(X_train)\n",
    "sms_eng_max"
   ]
  },
  {
   "cell_type": "markdown",
   "metadata": {},
   "source": [
    "_The column count is 1000 since we have specifically set the maximum number of features to 1000._"
   ]
  },
  {
   "cell_type": "markdown",
   "metadata": {},
   "source": [
    " "
   ]
  },
  {
   "cell_type": "markdown",
   "metadata": {},
   "source": [
    "<br><br>"
   ]
  },
  {
   "cell_type": "markdown",
   "metadata": {},
   "source": [
    "### 2.4 Visualizing the transformed data\n",
    "rubric={accuracy:4}\n",
    "\n",
    "1. Examine some features (words) created by `CountVectorizer` in 2.3. \n",
    "2. Is the feature \"phone\" present in the created features? \n",
    "3. Visualize the transformed data from 2.3 as a pandas dataframe by only including the columns below (assuming they are present in the vocabulary). \n",
    "    - 'free'\n",
    "    - 'love'\n",
    "    - 'prize'\n",
    "    - 'urgent'\n",
    "4. Pick a row of your choice from this dataframe, which has a non-zero value for any of the above features, and print the corresponding text message. For example, here is an example text message, which would have a non-zero value for the feature \"love\".  \n",
    "\n",
    "> \\EY! CALM DOWNON THEACUSATIONS.. ITXT U COS IWANA KNOW WOTU R DOIN AT THEW/END... HAVENTCN U IN AGES..RING ME IF UR UP4 NETHING SAT.LOVE J XXX.\\\"\"\n"
   ]
  },
  {
   "cell_type": "code",
   "execution_count": 17,
   "metadata": {},
   "outputs": [
    {
     "data": {
      "text/plain": [
       "array(['00', '000', '03', '04', '06', '0800', '08000839402',\n",
       "       '08000930705', '0870', '10', '100', '1000', '10p', '11', '12',\n",
       "       '12hrs', '150', '150p', '150ppm', '16', '18', '1st', '20', '200',\n",
       "       '2000', '2003', '20p', '25', '250', '25p', '2day', '2lands', '2nd',\n",
       "       '2nite', '30', '3030', '350', '4u', '50', '500', '5000', '750',\n",
       "       '800', '8007', '86688', '87066', '87077', '8th', '900', 'able',\n",
       "       'abt', 'ac', 'accept', 'account', 'actually', 'address', 'admirer',\n",
       "       'aft', 'afternoon', 'age', 'ago', 'ah', 'aight', 'al', 'alex',\n",
       "       'alright', 'amp', 'angry', 'ans', 'answer', 'anytime', 'apply',\n",
       "       'appreciate', 'ard', 'area', 'asap', 'ask', 'askd', 'asked',\n",
       "       'asking', 'ass', 'attempt', 'auction', 'available', 'await',\n",
       "       'awaiting', 'awake', 'award', 'awarded', 'away', 'awesome', 'b4',\n",
       "       'babe', 'baby', 'bad', 'balance', 'bank', 'bath', 'bathe', 'bcoz'],\n",
       "      dtype=object)"
      ]
     },
     "execution_count": 17,
     "metadata": {},
     "output_type": "execute_result"
    }
   ],
   "source": [
    "count_vec_eng_max.get_feature_names_out()[:100]"
   ]
  },
  {
   "cell_type": "code",
   "execution_count": 18,
   "metadata": {},
   "outputs": [
    {
     "data": {
      "text/plain": [
       "True"
      ]
     },
     "execution_count": 18,
     "metadata": {},
     "output_type": "execute_result"
    }
   ],
   "source": [
    "\"phone\" in count_vec_eng_max.get_feature_names_out()"
   ]
  },
  {
   "cell_type": "code",
   "execution_count": 19,
   "metadata": {},
   "outputs": [
    {
     "data": {
      "text/html": [
       "<div>\n",
       "<style scoped>\n",
       "    .dataframe tbody tr th:only-of-type {\n",
       "        vertical-align: middle;\n",
       "    }\n",
       "\n",
       "    .dataframe tbody tr th {\n",
       "        vertical-align: top;\n",
       "    }\n",
       "\n",
       "    .dataframe thead th {\n",
       "        text-align: right;\n",
       "    }\n",
       "</style>\n",
       "<table border=\"1\" class=\"dataframe\">\n",
       "  <thead>\n",
       "    <tr style=\"text-align: right;\">\n",
       "      <th></th>\n",
       "      <th>free</th>\n",
       "      <th>love</th>\n",
       "      <th>prize</th>\n",
       "      <th>urgent</th>\n",
       "    </tr>\n",
       "  </thead>\n",
       "  <tbody>\n",
       "    <tr>\n",
       "      <th>0</th>\n",
       "      <td>0</td>\n",
       "      <td>0</td>\n",
       "      <td>0</td>\n",
       "      <td>0</td>\n",
       "    </tr>\n",
       "    <tr>\n",
       "      <th>1</th>\n",
       "      <td>0</td>\n",
       "      <td>0</td>\n",
       "      <td>0</td>\n",
       "      <td>0</td>\n",
       "    </tr>\n",
       "    <tr>\n",
       "      <th>2</th>\n",
       "      <td>0</td>\n",
       "      <td>0</td>\n",
       "      <td>0</td>\n",
       "      <td>0</td>\n",
       "    </tr>\n",
       "    <tr>\n",
       "      <th>3</th>\n",
       "      <td>0</td>\n",
       "      <td>0</td>\n",
       "      <td>1</td>\n",
       "      <td>1</td>\n",
       "    </tr>\n",
       "    <tr>\n",
       "      <th>4</th>\n",
       "      <td>0</td>\n",
       "      <td>0</td>\n",
       "      <td>0</td>\n",
       "      <td>0</td>\n",
       "    </tr>\n",
       "    <tr>\n",
       "      <th>...</th>\n",
       "      <td>...</td>\n",
       "      <td>...</td>\n",
       "      <td>...</td>\n",
       "      <td>...</td>\n",
       "    </tr>\n",
       "    <tr>\n",
       "      <th>4452</th>\n",
       "      <td>0</td>\n",
       "      <td>0</td>\n",
       "      <td>0</td>\n",
       "      <td>0</td>\n",
       "    </tr>\n",
       "    <tr>\n",
       "      <th>4453</th>\n",
       "      <td>1</td>\n",
       "      <td>0</td>\n",
       "      <td>0</td>\n",
       "      <td>0</td>\n",
       "    </tr>\n",
       "    <tr>\n",
       "      <th>4454</th>\n",
       "      <td>0</td>\n",
       "      <td>0</td>\n",
       "      <td>0</td>\n",
       "      <td>0</td>\n",
       "    </tr>\n",
       "    <tr>\n",
       "      <th>4455</th>\n",
       "      <td>0</td>\n",
       "      <td>0</td>\n",
       "      <td>0</td>\n",
       "      <td>0</td>\n",
       "    </tr>\n",
       "    <tr>\n",
       "      <th>4456</th>\n",
       "      <td>0</td>\n",
       "      <td>0</td>\n",
       "      <td>0</td>\n",
       "      <td>0</td>\n",
       "    </tr>\n",
       "  </tbody>\n",
       "</table>\n",
       "<p>4457 rows × 4 columns</p>\n",
       "</div>"
      ],
      "text/plain": [
       "      free  love  prize  urgent\n",
       "0        0     0      0       0\n",
       "1        0     0      0       0\n",
       "2        0     0      0       0\n",
       "3        0     0      1       1\n",
       "4        0     0      0       0\n",
       "...    ...   ...    ...     ...\n",
       "4452     0     0      0       0\n",
       "4453     1     0      0       0\n",
       "4454     0     0      0       0\n",
       "4455     0     0      0       0\n",
       "4456     0     0      0       0\n",
       "\n",
       "[4457 rows x 4 columns]"
      ]
     },
     "execution_count": 19,
     "metadata": {},
     "output_type": "execute_result"
    }
   ],
   "source": [
    "pd.DataFrame(sms_eng_max.toarray(), columns=list(count_vec_eng_max.get_feature_names_out()))[[\"free\", \"love\", \"prize\", \"urgent\"]]"
   ]
  },
  {
   "cell_type": "code",
   "execution_count": 20,
   "metadata": {},
   "outputs": [
    {
     "data": {
      "text/plain": [
       "'03 06 10 150PPM 2000 2ND ASAP ATTEMPT BONUS BOX CALLER MOBILE NUMBER PRIZE REACH URGENT WON'"
      ]
     },
     "execution_count": 20,
     "metadata": {},
     "output_type": "execute_result"
    }
   ],
   "source": [
    "row_3 = pd.DataFrame(sms_eng_max.toarray(), columns=list(count_vec_eng_max.get_feature_names_out())).iloc[3]\n",
    "\" \".join(row_3[row_3 == 1].index.tolist()).upper()"
   ]
  },
  {
   "cell_type": "markdown",
   "metadata": {},
   "source": [
    "<br><br>"
   ]
  },
  {
   "cell_type": "markdown",
   "metadata": {},
   "source": [
    "### 2.5 Discussion\n",
    "rubric={reasoning:5}\n",
    "\n",
    "1. Are we likely to overfit or underfit with less number of `max_features`? Briefly discuss. \n",
    "2. Transform the `ex_msg` given below using the `CountVectorizer` from 2.3. How many non-zero elements are there in the bag-of-words representation of this message? \n",
    "3. Comment on how unknown words are handled by `CountVectorizer`. For example, the word \"MDS\" is unlikely to be present in the vocabulary built by the `CountVectorizer` on this dataset. How is it handled during transformation? "
   ]
  },
  {
   "cell_type": "markdown",
   "metadata": {},
   "source": [
    "_1. With lower features we are likely to underfit, as opposed to including all features where we are likely to overfit. For lower number of features we do not have enough word features in order to use for prediction, and will therefore, have bias towards predicting the same thing (average value) over and over again. In other words, we will be ignoring a lot of words in our test and deployment data if we only use selective few from our train data._"
   ]
  },
  {
   "cell_type": "code",
   "execution_count": 21,
   "metadata": {},
   "outputs": [],
   "source": [
    "ex_msg = \"I am learning many new topics in MDS.\""
   ]
  },
  {
   "cell_type": "code",
   "execution_count": 22,
   "metadata": {},
   "outputs": [
    {
     "data": {
      "text/plain": [
       "<1x1000 sparse matrix of type '<class 'numpy.int64'>'\n",
       "\twith 1 stored elements in Compressed Sparse Row format>"
      ]
     },
     "execution_count": 22,
     "metadata": {},
     "output_type": "execute_result"
    }
   ],
   "source": [
    "count_vec_eng_max.transform(pd.Series(ex_msg))"
   ]
  },
  {
   "cell_type": "markdown",
   "metadata": {},
   "source": [
    "_2. From the above we can see that we have only one non-zero value stored in our sparse matrix._"
   ]
  },
  {
   "cell_type": "markdown",
   "metadata": {},
   "source": [
    "_3. Unknown words are ignored when we transform our data using CountVectorizer simply because no corresponding column would exist from the fit stage in order to store the count of the new word._"
   ]
  },
  {
   "cell_type": "markdown",
   "metadata": {},
   "source": [
    "<br><br><br><br>"
   ]
  },
  {
   "cell_type": "markdown",
   "metadata": {},
   "source": [
    "## Exercise 3: Model building <a name=\"3\"></a>\n",
    "<hr>"
   ]
  },
  {
   "cell_type": "markdown",
   "metadata": {},
   "source": [
    "## 3.1 `DummyClassifier`\n",
    "rubric={reasoning:2}\n",
    "\n",
    "Now it's time to build models. Let's start with a baseline model. \n",
    "\n",
    "**Your tasks:**\n",
    "1. Report mean cross-validation scores of  `DummyClassifier`  with default hyperparameters for this problem.  \n",
    "2. Briefly comment on the scores. "
   ]
  },
  {
   "cell_type": "code",
   "execution_count": 23,
   "metadata": {},
   "outputs": [
    {
     "data": {
      "text/plain": [
       "0.862239233390205"
      ]
     },
     "execution_count": 23,
     "metadata": {},
     "output_type": "execute_result"
    }
   ],
   "source": [
    "cross_validate(DummyClassifier(), X_train, y_train)[\"test_score\"].mean()"
   ]
  },
  {
   "cell_type": "markdown",
   "metadata": {},
   "source": [
    "_Mean CV score for dummy classifier is **0.86** meaning that if we just go with the most common target value, we will get a 86% accuracy. This is mainly due to the target values not having a balanced distribution. In other words there are a lot more ham examples than spam, and if we predicted ham as our prediction for everything, 86% of the time we would have been correct._"
   ]
  },
  {
   "cell_type": "markdown",
   "metadata": {},
   "source": [
    "<br><br>"
   ]
  },
  {
   "cell_type": "markdown",
   "metadata": {},
   "source": [
    "### 3.2 `SVC` with default parameters\n",
    "rubric={accuracy:2}\n",
    "\n",
    "1. Now build a pipeline for feature extraction using `CountVectorizer` with `stop_words='english'` and `SVC` with default hyperparameters.\n",
    "2. Are you getting better scores with `SVC` compared to `DummyClassifier`?"
   ]
  },
  {
   "cell_type": "code",
   "execution_count": 24,
   "metadata": {},
   "outputs": [
    {
     "data": {
      "text/plain": [
       "0.9771126813727712"
      ]
     },
     "execution_count": 24,
     "metadata": {},
     "output_type": "execute_result"
    }
   ],
   "source": [
    "pipe = make_pipeline(CountVectorizer(stop_words=\"english\"), SVC())\n",
    "\n",
    "cross_validate(pipe, X_train, y_train)[\"test_score\"].mean()"
   ]
  },
  {
   "cell_type": "markdown",
   "metadata": {},
   "source": [
    "_The mean cross validation score is **0.977** which is a big improvement over the dummy classifier CV score._"
   ]
  },
  {
   "cell_type": "markdown",
   "metadata": {},
   "source": [
    "<br><br><br><br>"
   ]
  },
  {
   "cell_type": "markdown",
   "metadata": {},
   "source": [
    "## Exercise 4: Hyperparameter optimization <a name=\"4\"></a>\n",
    "<hr>\n",
    "\n",
    "So far we have been writing loops to try a bunch of different hyperparameter values and pick the one with lowest cross-validation error. This operation is so common that `scikit-learn` has some [built-in methods](https://scikit-learn.org/stable/modules/grid_search.html) to do it for you. In this exercise, we will explore two such methods:\n",
    "\n",
    "1. [`sklearn.model_selection.GridSearchCV`](http://scikit-learn.org/stable/modules/generated/sklearn.model_selection.GridSearchCV.html) \n",
    "2. [`sklearn.model_selection.RandomizedSearchCV`](https://scikit-learn.org/stable/modules/generated/sklearn.model_selection.RandomizedSearchCV.html)"
   ]
  },
  {
   "cell_type": "markdown",
   "metadata": {},
   "source": [
    "### 4.1 Optimizing `C` for SVM RBF\n",
    "rubric={accuracy:4,reasoning:2}\n",
    "\n",
    "1. Carry out hyperparameter search over `C` by sweeping the hyperparameter through the values $10^{-3}, \\ldots, 10^{-1}, 1, \\ldots, 10^{3}$ using [`GridSearchCV`](https://scikit-learn.org/stable/modules/generated/sklearn.model_selection.GridSearchCV.html) and 10-fold cross-validation. (The `param_grid` is given in the starter code below.) \n",
    "2. Plot training and cross-validation curves (mean train and mean cross-validation scores for different values of `C` from the `param_grid`) with `C` on the x-axis and scores on the y-axis. You can use the plotting library of your choice. \n",
    "3. What are the best hyperparameter value and the corresponding best cross-validation score found by your search? Compare the score with the score you got in exercise 3.2 (i.e., `SVC` with default parameters). \n",
    "\n",
    "A few tips about `GridSearchCV`: \n",
    "\n",
    "- The starter code below defines the parameter grid for `C` which you can pass to your `GridSearchCV`. Note the syntax `svc__C`. We have two steps in our pipeline and we can access the parameters of these steps using `__` to go deeper. So `svc__C` means `C` of `svc` step of the pipeline. \n",
    "- Setting `n_jobs=-1` should speed things up (if you have a multi-core processor).\n",
    "- Similar to `cross_validate`, you can pass `return_train_score=True` to your `GridSearchCV` object.\n",
    "- By default, after carrying out the search, `GridSearchCV` also refits a model with the entire training set with the best hyperparameter values. "
   ]
  },
  {
   "cell_type": "code",
   "execution_count": 25,
   "metadata": {},
   "outputs": [],
   "source": [
    "param_grid = {\"svc__C\": 10.0 ** np.arange(-3, 4)}"
   ]
  },
  {
   "cell_type": "code",
   "execution_count": 26,
   "metadata": {},
   "outputs": [
    {
     "data": {
      "text/plain": [
       "GridSearchCV(cv=10,\n",
       "             estimator=Pipeline(steps=[('countvectorizer', CountVectorizer()),\n",
       "                                       ('svc', SVC())]),\n",
       "             n_jobs=-1,\n",
       "             param_grid={'svc__C': array([1.e-03, 1.e-02, 1.e-01, 1.e+00, 1.e+01, 1.e+02, 1.e+03])},\n",
       "             return_train_score=True)"
      ]
     },
     "execution_count": 26,
     "metadata": {},
     "output_type": "execute_result"
    }
   ],
   "source": [
    "pipe = make_pipeline(CountVectorizer(), SVC())\n",
    "grid = GridSearchCV(\n",
    "    pipe, param_grid=param_grid, cv=10, n_jobs=-1, return_train_score=True\n",
    ")\n",
    "grid.fit(X_train, y_train)"
   ]
  },
  {
   "cell_type": "code",
   "execution_count": 27,
   "metadata": {},
   "outputs": [
    {
     "data": {
      "text/html": [
       "<div>\n",
       "<style scoped>\n",
       "    .dataframe tbody tr th:only-of-type {\n",
       "        vertical-align: middle;\n",
       "    }\n",
       "\n",
       "    .dataframe tbody tr th {\n",
       "        vertical-align: top;\n",
       "    }\n",
       "\n",
       "    .dataframe thead th {\n",
       "        text-align: right;\n",
       "    }\n",
       "</style>\n",
       "<table border=\"1\" class=\"dataframe\">\n",
       "  <thead>\n",
       "    <tr style=\"text-align: right;\">\n",
       "      <th></th>\n",
       "      <th>param_svc__C</th>\n",
       "      <th>mean_test_score</th>\n",
       "      <th>mean_train_score</th>\n",
       "    </tr>\n",
       "  </thead>\n",
       "  <tbody>\n",
       "    <tr>\n",
       "      <th>0</th>\n",
       "      <td>0.001</td>\n",
       "      <td>0.862240</td>\n",
       "      <td>0.862239</td>\n",
       "    </tr>\n",
       "    <tr>\n",
       "      <th>1</th>\n",
       "      <td>0.01</td>\n",
       "      <td>0.862240</td>\n",
       "      <td>0.862239</td>\n",
       "    </tr>\n",
       "    <tr>\n",
       "      <th>2</th>\n",
       "      <td>0.1</td>\n",
       "      <td>0.865380</td>\n",
       "      <td>0.866527</td>\n",
       "    </tr>\n",
       "    <tr>\n",
       "      <th>3</th>\n",
       "      <td>1.0</td>\n",
       "      <td>0.979803</td>\n",
       "      <td>0.995139</td>\n",
       "    </tr>\n",
       "    <tr>\n",
       "      <th>4</th>\n",
       "      <td>10.0</td>\n",
       "      <td>0.981823</td>\n",
       "      <td>0.999776</td>\n",
       "    </tr>\n",
       "    <tr>\n",
       "      <th>5</th>\n",
       "      <td>100.0</td>\n",
       "      <td>0.981599</td>\n",
       "      <td>1.000000</td>\n",
       "    </tr>\n",
       "    <tr>\n",
       "      <th>6</th>\n",
       "      <td>1000.0</td>\n",
       "      <td>0.981599</td>\n",
       "      <td>1.000000</td>\n",
       "    </tr>\n",
       "  </tbody>\n",
       "</table>\n",
       "</div>"
      ],
      "text/plain": [
       "  param_svc__C  mean_test_score  mean_train_score\n",
       "0        0.001         0.862240          0.862239\n",
       "1         0.01         0.862240          0.862239\n",
       "2          0.1         0.865380          0.866527\n",
       "3          1.0         0.979803          0.995139\n",
       "4         10.0         0.981823          0.999776\n",
       "5        100.0         0.981599          1.000000\n",
       "6       1000.0         0.981599          1.000000"
      ]
     },
     "execution_count": 27,
     "metadata": {},
     "output_type": "execute_result"
    }
   ],
   "source": [
    "results = pd.DataFrame(grid.cv_results_)[[\"param_svc__C\", \"mean_test_score\", \"mean_train_score\"]]\n",
    "results"
   ]
  },
  {
   "cell_type": "code",
   "execution_count": 28,
   "metadata": {},
   "outputs": [
    {
     "data": {
      "application/vnd.vegalite.v4+json": {
       "$schema": "https://vega.github.io/schema/vega-lite/v4.8.1.json",
       "config": {
        "view": {
         "continuousHeight": 300,
         "continuousWidth": 400
        }
       },
       "data": {
        "name": "data-0f80e1c61d999ddadee5aa5ed87bd635"
       },
       "datasets": {
        "data-0f80e1c61d999ddadee5aa5ed87bd635": [
         {
          "param_svc__C": 0.001,
          "value": 0.8622396331939337,
          "variable": "mean_test_score"
         },
         {
          "param_svc__C": 0.01,
          "value": 0.8622396331939337,
          "variable": "mean_test_score"
         },
         {
          "param_svc__C": 0.1,
          "value": 0.8653801582103089,
          "variable": "mean_test_score"
         },
         {
          "param_svc__C": 1,
          "value": 0.9798034967501386,
          "variable": "mean_test_score"
         },
         {
          "param_svc__C": 10,
          "value": 0.9818229455333298,
          "variable": "mean_test_score"
         },
         {
          "param_svc__C": 100,
          "value": 0.9815987302866931,
          "variable": "mean_test_score"
         },
         {
          "param_svc__C": 1000,
          "value": 0.9815987302866931,
          "variable": "mean_test_score"
         },
         {
          "param_svc__C": 0.001,
          "value": 0.8622391799918121,
          "variable": "mean_train_score"
         },
         {
          "param_svc__C": 0.01,
          "value": 0.8622391799918121,
          "variable": "mean_train_score"
         },
         {
          "param_svc__C": 0.1,
          "value": 0.8665270580678806,
          "variable": "mean_train_score"
         },
         {
          "param_svc__C": 1,
          "value": 0.9951387174800704,
          "variable": "mean_train_score"
         },
         {
          "param_svc__C": 10,
          "value": 0.9997756356957549,
          "variable": "mean_train_score"
         },
         {
          "param_svc__C": 100,
          "value": 1,
          "variable": "mean_train_score"
         },
         {
          "param_svc__C": 1000,
          "value": 1,
          "variable": "mean_train_score"
         }
        ]
       },
       "encoding": {
        "color": {
         "field": "variable",
         "sort": "-color",
         "title": "Score types",
         "type": "nominal"
        },
        "x": {
         "field": "param_svc__C",
         "scale": {
          "type": "log"
         },
         "title": "C hyperparameter",
         "type": "quantitative"
        },
        "y": {
         "field": "value",
         "scale": {
          "domain": [
           0.8,
           1
          ]
         },
         "title": "Score",
         "type": "quantitative"
        }
       },
       "mark": "line"
      },
      "image/png": "[encoded data removed]",
      "text/plain": [
       "<VegaLite 4 object>\n",
       "\n",
       "If you see this message, it means the renderer has not been properly enabled\n",
       "for the frontend that you are using. For more information, see\n",
       "https://altair-viz.github.io/user_guide/troubleshooting.html\n"
      ]
     },
     "execution_count": 28,
     "metadata": {},
     "output_type": "execute_result"
    }
   ],
   "source": [
    "melted_result = results.melt(id_vars=\"param_svc__C\")\n",
    "alt.Chart(melted_result).mark_line().encode(\n",
    "    x=alt.X(\"param_svc__C\", scale=alt.Scale(type=\"log\"), title=\"C hyperparameter\"),\n",
    "    y=alt.Y(\"value\", scale=alt.Scale(domain=(0.8, 1)), title=\"Score\"),\n",
    "    color=alt.Color(\"variable\", sort=\"-color\", title=\"Score types\"),\n",
    ")"
   ]
  },
  {
   "cell_type": "code",
   "execution_count": 29,
   "metadata": {},
   "outputs": [
    {
     "data": {
      "text/plain": [
       "0.9818229455333298"
      ]
     },
     "execution_count": 29,
     "metadata": {},
     "output_type": "execute_result"
    }
   ],
   "source": [
    "grid.best_score_"
   ]
  },
  {
   "cell_type": "code",
   "execution_count": 30,
   "metadata": {},
   "outputs": [
    {
     "data": {
      "text/plain": [
       "{'svc__C': 10.0}"
      ]
     },
     "execution_count": 30,
     "metadata": {},
     "output_type": "execute_result"
    }
   ],
   "source": [
    "grid.best_params_"
   ]
  },
  {
   "cell_type": "markdown",
   "metadata": {},
   "source": [
    "The best validation score after doing grid search is **0.982** which is a 0.5% improvement over the default SVC parameters."
   ]
  },
  {
   "cell_type": "markdown",
   "metadata": {},
   "source": [
    "<br><br>"
   ]
  },
  {
   "cell_type": "markdown",
   "metadata": {},
   "source": [
    "### 4.2 Jointly optimizing `C` and `gamma`\n",
    "rubric={accuracy:4,reasoning:2}\n",
    "\n",
    "Let's optimize `C` hyperparameter along with `gamma`. \n",
    "\n",
    "**Your tasks:**\n",
    "\n",
    "1. Expand your search to cover the `gamma` hyperparameter in addition to `C`, sweeping the hyperparameter through values $10^{-3}, 10^{-2}, \\ldots, 10^{3}$. Use the same `C` values from Exercise 4.1. \n",
    "2. Did you get the same best `C` value in this search that you got when optimizing `C` only in 4.1? Briefly discuss. "
   ]
  },
  {
   "cell_type": "code",
   "execution_count": 31,
   "metadata": {},
   "outputs": [],
   "source": [
    "param_grid = {\n",
    "    \"svc__C\": 10.0 ** np.arange(-3,4),\n",
    "    \"svc__gamma\": 10.0 ** np.arange(-3,4),\n",
    "}"
   ]
  },
  {
   "cell_type": "code",
   "execution_count": 32,
   "metadata": {},
   "outputs": [
    {
     "data": {
      "text/plain": [
       "GridSearchCV(estimator=Pipeline(steps=[('countvectorizer', CountVectorizer()),\n",
       "                                       ('svc', SVC())]),\n",
       "             n_jobs=-1,\n",
       "             param_grid={'svc__C': array([1.e-03, 1.e-02, 1.e-01, 1.e+00, 1.e+01, 1.e+02, 1.e+03]),\n",
       "                         'svc__gamma': array([1.e-03, 1.e-02, 1.e-01, 1.e+00, 1.e+01, 1.e+02, 1.e+03])},\n",
       "             return_train_score=True)"
      ]
     },
     "execution_count": 32,
     "metadata": {},
     "output_type": "execute_result"
    }
   ],
   "source": [
    "pipe_gamma_C = make_pipeline(CountVectorizer(), SVC())\n",
    "grid_gamma_C = GridSearchCV(\n",
    "    pipe_gamma_C,\n",
    "    param_grid,\n",
    "    n_jobs=-1,\n",
    "    return_train_score=True,\n",
    ")\n",
    "grid_gamma_C.fit(X_train, y_train)"
   ]
  },
  {
   "cell_type": "code",
   "execution_count": 33,
   "metadata": {},
   "outputs": [
    {
     "data": {
      "text/html": [
       "<div>\n",
       "<style scoped>\n",
       "    .dataframe tbody tr th:only-of-type {\n",
       "        vertical-align: middle;\n",
       "    }\n",
       "\n",
       "    .dataframe tbody tr th {\n",
       "        vertical-align: top;\n",
       "    }\n",
       "\n",
       "    .dataframe thead th {\n",
       "        text-align: right;\n",
       "    }\n",
       "</style>\n",
       "<table border=\"1\" class=\"dataframe\">\n",
       "  <thead>\n",
       "    <tr style=\"text-align: right;\">\n",
       "      <th></th>\n",
       "      <th>param_svc__gamma</th>\n",
       "      <th>param_svc__C</th>\n",
       "      <th>mean_test_score</th>\n",
       "    </tr>\n",
       "  </thead>\n",
       "  <tbody>\n",
       "    <tr>\n",
       "      <th>0</th>\n",
       "      <td>0.001</td>\n",
       "      <td>0.001</td>\n",
       "      <td>0.862239</td>\n",
       "    </tr>\n",
       "    <tr>\n",
       "      <th>1</th>\n",
       "      <td>0.01</td>\n",
       "      <td>0.001</td>\n",
       "      <td>0.862239</td>\n",
       "    </tr>\n",
       "    <tr>\n",
       "      <th>2</th>\n",
       "      <td>0.1</td>\n",
       "      <td>0.001</td>\n",
       "      <td>0.862239</td>\n",
       "    </tr>\n",
       "    <tr>\n",
       "      <th>3</th>\n",
       "      <td>1.0</td>\n",
       "      <td>0.001</td>\n",
       "      <td>0.862239</td>\n",
       "    </tr>\n",
       "    <tr>\n",
       "      <th>4</th>\n",
       "      <td>10.0</td>\n",
       "      <td>0.001</td>\n",
       "      <td>0.862239</td>\n",
       "    </tr>\n",
       "  </tbody>\n",
       "</table>\n",
       "</div>"
      ],
      "text/plain": [
       "  param_svc__gamma param_svc__C  mean_test_score\n",
       "0            0.001        0.001         0.862239\n",
       "1             0.01        0.001         0.862239\n",
       "2              0.1        0.001         0.862239\n",
       "3              1.0        0.001         0.862239\n",
       "4             10.0        0.001         0.862239"
      ]
     },
     "execution_count": 33,
     "metadata": {},
     "output_type": "execute_result"
    }
   ],
   "source": [
    "opt_results = pd.DataFrame(grid_gamma_C.cv_results_)[\n",
    "    [\"param_svc__gamma\", \"param_svc__C\", \"mean_test_score\"]\n",
    "]\n",
    "opt_results.head()"
   ]
  },
  {
   "cell_type": "code",
   "execution_count": 34,
   "metadata": {},
   "outputs": [
    {
     "data": {
      "text/plain": [
       "{'svc__C': 100.0, 'svc__gamma': 0.01}"
      ]
     },
     "execution_count": 34,
     "metadata": {},
     "output_type": "execute_result"
    }
   ],
   "source": [
    "grid_gamma_C.best_params_"
   ]
  },
  {
   "cell_type": "code",
   "execution_count": 35,
   "metadata": {},
   "outputs": [
    {
     "data": {
      "text/plain": [
       "0.9840671286859628"
      ]
     },
     "execution_count": 35,
     "metadata": {},
     "output_type": "execute_result"
    }
   ],
   "source": [
    "grid_gamma_C.best_score_"
   ]
  },
  {
   "cell_type": "markdown",
   "metadata": {},
   "source": [
    "_While optimizing both gamma and C I got a different C value (100) which in combination with the new gamma of 0.01 slightly improved my score to **0.984**. This does not say that this C score gives me the best score if applied alone. What it means is that in combination with gamma=0.01 this C value gives the best score in my grid search._"
   ]
  },
  {
   "cell_type": "code",
   "execution_count": 36,
   "metadata": {},
   "outputs": [
    {
     "data": {
      "application/vnd.vegalite.v4+json": {
       "$schema": "https://vega.github.io/schema/vega-lite/v4.8.1.json",
       "config": {
        "view": {
         "continuousHeight": 300,
         "continuousWidth": 400
        }
       },
       "data": {
        "name": "data-e3cfa8591357522e37e95ec9ad42a9b7"
       },
       "datasets": {
        "data-e3cfa8591357522e37e95ec9ad42a9b7": [
         {
          "mean_test_score": 0.862239233390205,
          "param_svc__C": 0.001,
          "param_svc__gamma": 0.001
         },
         {
          "mean_test_score": 0.862239233390205,
          "param_svc__C": 0.001,
          "param_svc__gamma": 0.01
         },
         {
          "mean_test_score": 0.862239233390205,
          "param_svc__C": 0.001,
          "param_svc__gamma": 0.1
         },
         {
          "mean_test_score": 0.862239233390205,
          "param_svc__C": 0.001,
          "param_svc__gamma": 1
         },
         {
          "mean_test_score": 0.862239233390205,
          "param_svc__C": 0.001,
          "param_svc__gamma": 10
         },
         {
          "mean_test_score": 0.862239233390205,
          "param_svc__C": 0.001,
          "param_svc__gamma": 100
         },
         {
          "mean_test_score": 0.862239233390205,
          "param_svc__C": 0.001,
          "param_svc__gamma": 1000
         },
         {
          "mean_test_score": 0.862239233390205,
          "param_svc__C": 0.01,
          "param_svc__gamma": 0.001
         },
         {
          "mean_test_score": 0.862239233390205,
          "param_svc__C": 0.01,
          "param_svc__gamma": 0.01
         },
         {
          "mean_test_score": 0.862239233390205,
          "param_svc__C": 0.01,
          "param_svc__gamma": 0.1
         },
         {
          "mean_test_score": 0.862239233390205,
          "param_svc__C": 0.01,
          "param_svc__gamma": 1
         },
         {
          "mean_test_score": 0.862239233390205,
          "param_svc__C": 0.01,
          "param_svc__gamma": 10
         },
         {
          "mean_test_score": 0.862239233390205,
          "param_svc__C": 0.01,
          "param_svc__gamma": 100
         },
         {
          "mean_test_score": 0.862239233390205,
          "param_svc__C": 0.01,
          "param_svc__gamma": 1000
         },
         {
          "mean_test_score": 0.862239233390205,
          "param_svc__C": 0.1,
          "param_svc__gamma": 0.001
         },
         {
          "mean_test_score": 0.8678488925125697,
          "param_svc__C": 0.1,
          "param_svc__gamma": 0.01
         },
         {
          "mean_test_score": 0.862239233390205,
          "param_svc__C": 0.1,
          "param_svc__gamma": 0.1
         },
         {
          "mean_test_score": 0.862239233390205,
          "param_svc__C": 0.1,
          "param_svc__gamma": 1
         },
         {
          "mean_test_score": 0.862239233390205,
          "param_svc__C": 0.1,
          "param_svc__gamma": 10
         },
         {
          "mean_test_score": 0.862239233390205,
          "param_svc__C": 0.1,
          "param_svc__gamma": 100
         },
         {
          "mean_test_score": 0.862239233390205,
          "param_svc__C": 0.1,
          "param_svc__gamma": 1000
         },
         {
          "mean_test_score": 0.9046440991881948,
          "param_svc__C": 1,
          "param_svc__gamma": 0.001
         },
         {
          "mean_test_score": 0.9759898436281098,
          "param_svc__C": 1,
          "param_svc__gamma": 0.01
         },
         {
          "mean_test_score": 0.962977055054783,
          "param_svc__C": 1,
          "param_svc__gamma": 0.1
         },
         {
          "mean_test_score": 0.8887139959636222,
          "param_svc__C": 1,
          "param_svc__gamma": 1
         },
         {
          "mean_test_score": 0.8882653138258518,
          "param_svc__C": 1,
          "param_svc__gamma": 10
         },
         {
          "mean_test_score": 0.8882653138258518,
          "param_svc__C": 1,
          "param_svc__gamma": 100
         },
         {
          "mean_test_score": 0.8882653138258518,
          "param_svc__C": 1,
          "param_svc__gamma": 1000
         },
         {
          "mean_test_score": 0.976663495946007,
          "param_svc__C": 10,
          "param_svc__gamma": 0.001
         },
         {
          "mean_test_score": 0.9809255987880802,
          "param_svc__C": 10,
          "param_svc__gamma": 0.01
         },
         {
          "mean_test_score": 0.9672399128303463,
          "param_svc__C": 10,
          "param_svc__gamma": 0.1
         },
         {
          "mean_test_score": 0.890733443050334,
          "param_svc__C": 10,
          "param_svc__gamma": 1
         },
         {
          "mean_test_score": 0.8882653138258518,
          "param_svc__C": 10,
          "param_svc__gamma": 10
         },
         {
          "mean_test_score": 0.8882653138258518,
          "param_svc__C": 10,
          "param_svc__gamma": 100
         },
         {
          "mean_test_score": 0.8882653138258518,
          "param_svc__C": 10,
          "param_svc__gamma": 1000
         },
         {
          "mean_test_score": 0.9820481848882446,
          "param_svc__C": 100,
          "param_svc__gamma": 0.001
         },
         {
          "mean_test_score": 0.9840671286859628,
          "param_svc__C": 100,
          "param_svc__gamma": 0.01
         },
         {
          "mean_test_score": 0.967464128076983,
          "param_svc__C": 100,
          "param_svc__gamma": 0.1
         },
         {
          "mean_test_score": 0.890733443050334,
          "param_svc__C": 100,
          "param_svc__gamma": 1
         },
         {
          "mean_test_score": 0.8882653138258518,
          "param_svc__C": 100,
          "param_svc__gamma": 10
         },
         {
          "mean_test_score": 0.8882653138258518,
          "param_svc__C": 100,
          "param_svc__gamma": 100
         },
         {
          "mean_test_score": 0.8882653138258518,
          "param_svc__C": 100,
          "param_svc__gamma": 1000
         },
         {
          "mean_test_score": 0.9838436683728162,
          "param_svc__C": 1000,
          "param_svc__gamma": 0.001
         },
         {
          "mean_test_score": 0.9840671286859628,
          "param_svc__C": 1000,
          "param_svc__gamma": 0.01
         },
         {
          "mean_test_score": 0.967464128076983,
          "param_svc__C": 1000,
          "param_svc__gamma": 0.1
         },
         {
          "mean_test_score": 0.890733443050334,
          "param_svc__C": 1000,
          "param_svc__gamma": 1
         },
         {
          "mean_test_score": 0.8882653138258518,
          "param_svc__C": 1000,
          "param_svc__gamma": 10
         },
         {
          "mean_test_score": 0.8882653138258518,
          "param_svc__C": 1000,
          "param_svc__gamma": 100
         },
         {
          "mean_test_score": 0.8882653138258518,
          "param_svc__C": 1000,
          "param_svc__gamma": 1000
         }
        ]
       },
       "encoding": {
        "color": {
         "field": "mean_test_score",
         "type": "quantitative"
        },
        "x": {
         "field": "param_svc__C",
         "title": "C",
         "type": "ordinal"
        },
        "y": {
         "field": "param_svc__gamma",
         "title": "gamma",
         "type": "ordinal"
        }
       },
       "height": 200,
       "mark": "rect",
       "width": 200
      },
      "image/png": "[encoded data removed]",
      "text/plain": [
       "<VegaLite 4 object>\n",
       "\n",
       "If you see this message, it means the renderer has not been properly enabled\n",
       "for the frontend that you are using. For more information, see\n",
       "https://altair-viz.github.io/user_guide/troubleshooting.html\n"
      ]
     },
     "execution_count": 36,
     "metadata": {},
     "output_type": "execute_result"
    }
   ],
   "source": [
    "alt.Chart(opt_results).mark_rect().encode(\n",
    "    x=alt.X(\"param_svc__C:O\", title=\"C\"),\n",
    "    y=alt.Y(\"param_svc__gamma:O\", title=\"gamma\"),\n",
    "    color=\"mean_test_score:Q\",\n",
    ").properties(\n",
    "    width=200,\n",
    "    height=200\n",
    ")"
   ]
  },
  {
   "cell_type": "markdown",
   "metadata": {},
   "source": [
    "<br><br>"
   ]
  },
  {
   "cell_type": "markdown",
   "metadata": {},
   "source": [
    "### 4.3 Optimizing `C` and `gamma` of SVM RBF and `binary` and `max_features` of `CountVectorizer` jointly with `RandomizedSearchCV`\n",
    "rubric={accuracy:4,reasoning:2}\n",
    "\n",
    "Similar to estimators, transformers also have hyperparameters. In this exercise, you'll jointly optimize hyperparameters of `SVC` as well as `CountVectorizer` using \n",
    "`RandomizedSearchCV`, which, as its name implies, tries random hyperparameter configurations instead of performing an exhaustive grid search. \n",
    "\n",
    "**Your tasks:**\n",
    "\n",
    "1. Jointly optimize `C` and `gamma` hyperparameters of SVC RBF, and `binary` and `max_features` hyperparameters of `CountVectorizer` using [`RandomizedSearchCV`](https://scikit-learn.org/stable/modules/generated/sklearn.model_selection.RandomizedSearchCV.html). For the  search, use an object named `random_search` shown below. For all hyperparameters use reasonable ranges of values of your choice. \n",
    "\n",
    "2. Name a situation in which random search would be strongly preferable over a grid search, and briefly explain why.  "
   ]
  },
  {
   "cell_type": "code",
   "execution_count": 37,
   "metadata": {},
   "outputs": [
    {
     "data": {
      "text/plain": [
       "<scipy.stats._distn_infrastructure.rv_frozen at 0x208bf3e1fd0>"
      ]
     },
     "execution_count": 37,
     "metadata": {},
     "output_type": "execute_result"
    }
   ],
   "source": [
    "from scipy.stats import expon, lognorm, loguniform, randint, uniform\n",
    "uniform(0.1, 1e4)"
   ]
  },
  {
   "cell_type": "code",
   "execution_count": 38,
   "metadata": {},
   "outputs": [],
   "source": [
    "from scipy.stats import loguniform, randint, uniform\n",
    "\n",
    "pipe = make_pipeline(CountVectorizer(), SVC())\n",
    "param_distributions = {\n",
    "    \"countvectorizer__binary\": [True, False],\n",
    "    \"countvectorizer__max_features\": randint(50, 5000),\n",
    "    \"svc__gamma\": loguniform(1e-2, 1e3),\n",
    "    \"svc__C\": uniform(1e-1, 1e3),\n",
    "}\n",
    "\n",
    "random_search = RandomizedSearchCV(pipe, param_distributions, n_iter=100, n_jobs=-1, random_state=123)"
   ]
  },
  {
   "cell_type": "code",
   "execution_count": 39,
   "metadata": {},
   "outputs": [
    {
     "data": {
      "text/plain": [
       "RandomizedSearchCV(estimator=Pipeline(steps=[('countvectorizer',\n",
       "                                              CountVectorizer()),\n",
       "                                             ('svc', SVC())]),\n",
       "                   n_iter=100, n_jobs=-1,\n",
       "                   param_distributions={'countvectorizer__binary': [True,\n",
       "                                                                    False],\n",
       "                                        'countvectorizer__max_features': <scipy.stats._distn_infrastructure.rv_frozen object at 0x00000208C0419D00>,\n",
       "                                        'svc__C': <scipy.stats._distn_infrastructure.rv_frozen object at 0x00000208C0419BB0>,\n",
       "                                        'svc__gamma': <scipy.stats._distn_infrastructure.rv_frozen object at 0x00000208BF3D2E20>},\n",
       "                   random_state=123)"
      ]
     },
     "execution_count": 39,
     "metadata": {},
     "output_type": "execute_result"
    }
   ],
   "source": [
    "random_search.fit(X_train, y_train)"
   ]
  },
  {
   "cell_type": "code",
   "execution_count": 40,
   "metadata": {},
   "outputs": [
    {
     "data": {
      "text/plain": [
       "{'countvectorizer__binary': True,\n",
       " 'countvectorizer__max_features': 3345,\n",
       " 'svc__C': 214.11191490834625,\n",
       " 'svc__gamma': 0.03366893122619186}"
      ]
     },
     "execution_count": 40,
     "metadata": {},
     "output_type": "execute_result"
    }
   ],
   "source": [
    "random_search.best_params_"
   ]
  },
  {
   "cell_type": "code",
   "execution_count": 41,
   "metadata": {},
   "outputs": [
    {
     "data": {
      "text/plain": [
       "0.9858626121705344"
      ]
     },
     "execution_count": 41,
     "metadata": {},
     "output_type": "execute_result"
    }
   ],
   "source": [
    "random_search.best_score_"
   ]
  },
  {
   "cell_type": "markdown",
   "metadata": {},
   "source": [
    "_1. We see a minor improvement in score when applying random search. The best score and parameters are shown above._  \n",
    "_2. One of the situations that RandomSearchCV would give us huge advantage is when we have one or two hyperparameters that are more important that others. In contrast with GridSearch we can define distributions for our hyperparameter to reflect this importance._"
   ]
  },
  {
   "cell_type": "markdown",
   "metadata": {},
   "source": [
    "<br><br>"
   ]
  },
  {
   "cell_type": "markdown",
   "metadata": {},
   "source": [
    "### (Optional) 4.4: More sophisticated hyperparameter tuning. \n",
    "rubric={reasoning:1} \n",
    "\n",
    "There are all sorts of software packages that make hyperparameter tuning with `scikit-learn` even more automated. For example:\n",
    "\n",
    "- [hyperopt-sklearn](https://github.com/hyperopt/hyperopt-sklearn)\n",
    "- [auto-sklearn](https://github.com/automl/auto-sklearn)\n",
    "- [SigOptSearchCV](https://sigopt.com/docs/overview/scikit_learn)\n",
    "\n",
    "Give one of these a try and report your thoughts. Or, if you're even more adventurous, you could try a package that isn't tied to `scikit-learn`. There are many options for you to play around with in your ample free time:\n",
    "\n",
    "- [TPOT](https://github.com/rhiever/tpot)\n",
    "- [hyperopt](https://github.com/hyperopt/hyperopt)\n",
    "- [hyperband](https://github.com/zygmuntz/hyperband)\n",
    "- [SMAC](http://www.cs.ubc.ca/labs/beta/Projects/SMAC/)\n",
    "- [MOE](https://github.com/Yelp/MOE)\n",
    "- [pybo](https://github.com/mwhoffman/pybo)\n",
    "- [spearmint](https://github.com/HIPS/Spearmint)\n",
    "- [BayesOpt](https://github.com/rmcantin/bayesopt)\n",
    "\n",
    "Note: this list isn't meant to be exhaustive. \n",
    "\n",
    "In other news, the recently announced [Amazon SageMaker](https://aws.amazon.com/sagemaker/) is also supposed to do hyperparameter optimization for you (among many other things it does)."
   ]
  },
  {
   "cell_type": "markdown",
   "metadata": {},
   "source": [
    "<br><br><br><br>"
   ]
  },
  {
   "cell_type": "markdown",
   "metadata": {},
   "source": [
    "## Exercise 5: Test results <a name=\"5\"></a>\n",
    "<hr>\n",
    "\n",
    "Now that we have done extensive hyperparameter search, it's time to assess our model. "
   ]
  },
  {
   "cell_type": "markdown",
   "metadata": {},
   "source": [
    "### 5.1 Assessing the model\n",
    "rubric={reasoning:4}\n",
    "\n",
    "**Your tasks**\n",
    "\n",
    "1. Evaluate your final model from 4.3 on the test set. \n",
    "2. How does your test accuracy compare to your validation accuracy?  \n",
    "3. Try the best model on a couple of spam and ham (non-spam) text messages from your inbox. Do you believe that this model is likely to identify spam messages in the wild with the observed accuracy? Briefly discuss. "
   ]
  },
  {
   "cell_type": "code",
   "execution_count": 42,
   "metadata": {},
   "outputs": [
    {
     "data": {
      "text/plain": [
       "0.9829596412556054"
      ]
     },
     "execution_count": 42,
     "metadata": {},
     "output_type": "execute_result"
    }
   ],
   "source": [
    "optimized_pipe = make_pipeline(\n",
    "    CountVectorizer(binary=True, max_features=3345), SVC(gamma=0.03, C=214)\n",
    ")\n",
    "\n",
    "optimized_pipe.fit(X_train, y_train)\n",
    "optimized_pipe.score(X_test, y_test)"
   ]
  },
  {
   "cell_type": "markdown",
   "metadata": {},
   "source": [
    "_2. The test accuracy is **0.983** which is very close to our best cross_validation score of **0.986** from the above hyperparameter optimization._"
   ]
  },
  {
   "cell_type": "code",
   "execution_count": 43,
   "metadata": {},
   "outputs": [
    {
     "data": {
      "text/plain": [
       "array(['ham', 'ham'], dtype=object)"
      ]
     },
     "execution_count": 43,
     "metadata": {},
     "output_type": "execute_result"
    }
   ],
   "source": [
    "text = pd.Series(\n",
    "    [\n",
    "        \"Hello, I have a profitable deal to share with you, 50% for you if you can help me close the deal. Please reply if you are interested to know more and how you can help me.\",\n",
    "        \"𝖸𝗈𝗎 𝗐𝖾𝗋𝖾 𝗋𝖾𝖼𝖾𝗇𝗍𝗅𝗒 𝖺𝗌𝗄𝖾𝖽 𝗍𝗈 𝗍𝖺𝗄𝖾 𝖺𝗇 𝖺𝖼𝗍𝗂𝗈𝗇 𝗈𝗇 𝗒𝗈𝗎𝗋 𝖺𝖼𝖼𝗈𝗎𝗇𝗍 𝖺𝗇𝖽 𝗂𝗍 𝗅𝗈𝗈𝗄𝗌 𝗅𝗂𝗄𝖾 𝗐𝖾 𝖽𝗂𝖽𝗇'𝗍 𝗋𝖾𝖼𝖾𝗂𝗏𝖾 𝖺 𝗋𝖾𝗊𝗎𝖾𝗌𝗍𝖾𝖽 𝗋𝖾𝗌𝗉𝗈𝗇𝗌𝖾. 𝖶𝖾 𝗁𝖺𝗏𝖾 𝖿𝗈𝗎𝗇𝖽 𝗌𝗎𝗌𝗉𝗂𝖼𝗂𝗈𝗎𝗌 𝖺𝖼𝗍𝗂𝗏𝗂𝗍𝗒 𝗈𝗇 𝗍𝗁𝖾 𝖼𝗋𝖾𝖽𝗂𝗍 𝖼𝖺𝗋𝖽 𝗅𝗂𝗇𝗄𝖾𝖽 𝗍𝗈 𝗒𝗈𝗎𝗋 𝖯𝖺𝗒𝖯𝖺𝗅 𝖺𝖼𝖼𝗈𝗎𝗇𝗍. 𝖸𝗈𝗎 𝗆𝗎𝗌𝗍 𝖼𝗈𝗇𝖿𝗂𝗋𝗆 𝗒𝗈𝗎𝗋 𝗂𝖽𝖾𝗇𝗍𝗂𝗍𝗒 𝗍𝗈 𝖼𝗈𝗇𝖿𝗂𝗋𝗆 𝗍𝗁𝖺𝗍 𝗒𝗈𝗎 𝖺𝗋𝖾 𝗍𝗁𝖾 𝗈𝗐𝗇𝖾𝗋 𝗈𝖿 𝗍𝗁𝖾 𝖼𝗋𝖾𝖽𝗂𝗍 𝖼𝖺𝗋𝖽.\",\n",
    "    ]\n",
    ")\n",
    "optimized_pipe.predict(text)"
   ]
  },
  {
   "cell_type": "markdown",
   "metadata": {},
   "source": [
    "_3. As shown in the example above from my inbox the two spam emails have been classified as ham. This shows that the model is not able to predict well in the wild. The main reason this is happening is the very low number of sample data (less than 10_000), and a very small percentage of spam emails in the train data set. In order for this model to generalize better we will need more observations (in the order of millions) and a more balanced target distribution._"
   ]
  },
  {
   "cell_type": "markdown",
   "metadata": {},
   "source": [
    "<br><br><br><br>"
   ]
  },
  {
   "cell_type": "markdown",
   "metadata": {},
   "source": [
    "**PLEASE READ BEFORE YOU SUBMIT:** \n",
    "\n",
    "When you are ready to submit your assignment do the following:\n",
    "\n",
    "1. Run all cells in your notebook to make sure there are no errors by doing `Kernel -> Restart Kernel and Clear All Outputs` and then `Run -> Run All Cells`. \n",
    "2. Notebooks with cell execution numbers out of order or not starting from \"1\" will have marks deducted. Notebooks without the output displayed may not be graded at all (because we need to see the output in order to grade your work).\n",
    "3. Push all your work to your GitHub lab repository. \n",
    "4. Upload the assignment using Gradescope's drag and drop tool. Check out this [Gradescope Student Guide](https://lthub.ubc.ca/guides/gradescope-student-guide/) if you need help with Gradescope submission. \n",
    "5. Make sure that the plots and output are rendered properly in your submitted file. "
   ]
  }
 ],
 "metadata": {
  "celltoolbar": "Create Assignment",
  "kernelspec": {
   "display_name": "Python [conda env:571]",
   "language": "python",
   "name": "conda-env-571-py"
  },
  "language_info": {
   "codemirror_mode": {
    "name": "ipython",
    "version": 3
   },
   "file_extension": ".py",
   "mimetype": "text/x-python",
   "name": "python",
   "nbconvert_exporter": "python",
   "pygments_lexer": "ipython3",
   "version": "3.9.7"
  }
 },
 "nbformat": 4,
 "nbformat_minor": 4
}
